{
  "nbformat": 4,
  "nbformat_minor": 0,
  "metadata": {
    "colab": {
      "name": "RipYoutube.ipynb",
      "provenance": [],
      "collapsed_sections": []
    },
    "kernelspec": {
      "name": "python3",
      "display_name": "Python 3"
    },
    "language_info": {
      "name": "python"
    }
  },
  "cells": [
    {
      "cell_type": "markdown",
      "source": [
        "Mount your Google Drive to this session"
      ],
      "metadata": {
        "id": "OMF7RASX4Tt4"
      }
    },
    {
      "cell_type": "code",
      "source": [
        "from google.colab import drive, output\n",
        "drive.mount('/content/drive', force_remount=True)"
      ],
      "metadata": {
        "id": "UwS2_ZC-2NDz"
      },
      "execution_count": null,
      "outputs": []
    },
    {
      "cell_type": "markdown",
      "source": [
        "Creates a 'Downloads' directory if it not already exists"
      ],
      "metadata": {
        "id": "xXmkZGjX4eYp"
      }
    },
    {
      "cell_type": "code",
      "source": [
        "%mkdir -p /content/drive/MyDrive/Downloads\n",
        "%cd /content/drive/MyDrive/Downloads"
      ],
      "metadata": {
        "id": "YlHxjOOP2jwV"
      },
      "execution_count": null,
      "outputs": []
    },
    {
      "cell_type": "markdown",
      "source": [
        "Install youtube-dl package"
      ],
      "metadata": {
        "id": "KvcvMPy8_TWD"
      }
    },
    {
      "cell_type": "code",
      "source": [
        "%pip install youtube-dl"
      ],
      "metadata": {
        "id": "jWafQgah2uQB"
      },
      "execution_count": null,
      "outputs": []
    },
    {
      "cell_type": "markdown",
      "source": [
        "## Replace url with your own (no quotes):\n"
      ],
      "metadata": {
        "id": "wfCFjCcApJrA"
      }
    },
    {
      "cell_type": "code",
      "source": [
        "%env URL=https://youtu.be/AFgzzWT3zX4"
      ],
      "metadata": {
        "id": "mGzvu-pDlym_"
      },
      "execution_count": null,
      "outputs": []
    },
    {
      "cell_type": "markdown",
      "source": [
        "#Rip the video from youtube\n",
        "\n",
        "**$URL**:\n",
        "> contains the url from the cell above\n",
        "\n",
        "**-x**:\n",
        "> extracts audio only\n",
        "\n",
        "**--audio-format**:\n",
        "  \n",
        "> sets output audio format\n",
        "\n",
        "**-o**:\n",
        "> directory for the output file. \"\\${PWD}%(title)s-%(id)s.%(ext)s\" is for name formating. Replace \\$PWD if you want to place the output in another directory.\n",
        "\n",
        "\n",
        "\n"
      ],
      "metadata": {
        "id": "fyhTnPeg_ZNy"
      }
    },
    {
      "cell_type": "code",
      "source": [
        "# den gillar inte radbyten... \n",
        "!youtube-dl $URL -x --audio-format wav -o \"${PWD}/%(title)s-%(id)s.%(ext)s\"\n",
        "\n",
        "# ******* bara för att snygga till *******\n",
        "print(\"Här ligger filen:\")\n",
        "!find $(pwd) -maxdepth 1 -type f -not -path '*/\\.*' | sort"
      ],
      "metadata": {
        "id": "MeuUH5GB26Tc"
      },
      "execution_count": null,
      "outputs": []
    }
  ]
}
