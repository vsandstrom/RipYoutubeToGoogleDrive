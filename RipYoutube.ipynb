{
  "nbformat": 4,
  "nbformat_minor": 0,
  "metadata": {
    "colab": {
      "name": "RipYoutube.ipynb",
      "provenance": [],
      "collapsed_sections": []
    },
    "kernelspec": {
      "name": "python3",
      "display_name": "Python 3"
    },
    "language_info": {
      "name": "python"
    }
  },
  "cells": [
    {
      "cell_type": "markdown",
      "source": [
        "Mount your Google Drive to this session"
      ],
      "metadata": {
        "id": "OMF7RASX4Tt4"
      }
    },
    {
      "cell_type": "code",
      "source": [
        "from google.colab import drive, output\n",
        "drive.mount('/content/drive', force_remount=True)"
      ],
      "metadata": {
        "id": "UwS2_ZC-2NDz",
        "colab": {
          "base_uri": "https://localhost:8080/"
        },
        "outputId": "4a1dce15-fbfc-4e37-903d-27245a8c5a00"
      },
      "execution_count": 1,
      "outputs": [
        {
          "output_type": "stream",
          "name": "stdout",
          "text": [
            "Mounted at /content/drive\n"
          ]
        }
      ]
    },
    {
      "cell_type": "markdown",
      "source": [
        "Creates a 'Downloads' directory if it not already exists"
      ],
      "metadata": {
        "id": "xXmkZGjX4eYp"
      }
    },
    {
      "cell_type": "code",
      "source": [
        "%cd\n",
        "%mkdir -p drive/MyDrive/Downloads\n",
        "%cd drive/MyDrive/Downloads"
      ],
      "metadata": {
        "id": "YlHxjOOP2jwV",
        "colab": {
          "base_uri": "https://localhost:8080/"
        },
        "outputId": "e5a15db1-897f-4508-f846-1e867f70dd76"
      },
      "execution_count": 2,
      "outputs": [
        {
          "output_type": "stream",
          "name": "stdout",
          "text": [
            "/root\n",
            "/root/drive/MyDrive/Downloads\n"
          ]
        }
      ]
    },
    {
      "cell_type": "markdown",
      "source": [
        "Install youtube-dl package"
      ],
      "metadata": {
        "id": "KvcvMPy8_TWD"
      }
    },
    {
      "cell_type": "code",
      "source": [
        "%pip install youtube-dl"
      ],
      "metadata": {
        "colab": {
          "base_uri": "https://localhost:8080/"
        },
        "id": "jWafQgah2uQB",
        "outputId": "7fb10753-9caf-442e-829d-5a3beaec13f3"
      },
      "execution_count": 3,
      "outputs": [
        {
          "output_type": "stream",
          "name": "stdout",
          "text": [
            "Looking in indexes: https://pypi.org/simple, https://us-python.pkg.dev/colab-wheels/public/simple/\n",
            "Collecting youtube-dl\n",
            "  Downloading youtube_dl-2021.12.17-py2.py3-none-any.whl (1.9 MB)\n",
            "\u001b[K     |████████████████████████████████| 1.9 MB 7.4 MB/s \n",
            "\u001b[?25hInstalling collected packages: youtube-dl\n",
            "Successfully installed youtube-dl-2021.12.17\n"
          ]
        }
      ]
    },
    {
      "cell_type": "markdown",
      "source": [
        "## Replace url with your own (no quotes):\n"
      ],
      "metadata": {
        "id": "wfCFjCcApJrA"
      }
    },
    {
      "cell_type": "code",
      "source": [
        "%env URL=https://youtu.be/AFgzzWT3zX4"
      ],
      "metadata": {
        "colab": {
          "base_uri": "https://localhost:8080/"
        },
        "id": "mGzvu-pDlym_",
        "outputId": "972c5f5f-95f7-4f30-f391-a1220e5e09f8"
      },
      "execution_count": 4,
      "outputs": [
        {
          "output_type": "stream",
          "name": "stdout",
          "text": [
            "env: URL=https://youtu.be/AFgzzWT3zX4\n"
          ]
        }
      ]
    },
    {
      "cell_type": "markdown",
      "source": [
        "#Rip the video from youtube\n",
        "\n",
        "**$URL**:\n",
        "> contains the url from the cell above\n",
        "\n",
        "**-x**:\n",
        "> extracts audio only\n",
        "\n",
        "**--audio-format**:\n",
        "  \n",
        "> sets output audio format\n",
        "\n",
        "**-o**:\n",
        "> directory for the output file. \"\\${PWD}%(title)s-%(id)s.%(ext)s\" is for name formating. Replace \\$PWD if you want to place the output in another directory.\n",
        "\n",
        "\n",
        "\n"
      ],
      "metadata": {
        "id": "fyhTnPeg_ZNy"
      }
    },
    {
      "cell_type": "code",
      "source": [
        "# den gillar inte radbyten... \n",
        "!youtube-dl $URL -x --audio-format wav -o \"${PWD}/%(title)s-%(id)s.%(ext)s\"\n",
        "\n",
        "# ******* bara för att snygga till *******\n",
        "print(\"Här ligger filen:\")\n",
        "!find $(pwd) -maxdepth 1 -type f -not -path '*/\\.*' | sort"
      ],
      "metadata": {
        "id": "MeuUH5GB26Tc"
      },
      "execution_count": null,
      "outputs": []
    }
  ]
}